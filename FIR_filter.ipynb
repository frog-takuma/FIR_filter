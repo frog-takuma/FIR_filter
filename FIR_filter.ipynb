{
 "cells": [
  {
   "cell_type": "markdown",
   "metadata": {},
   "source": [
    "# FIR Filter"
   ]
  },
  {
   "cell_type": "code",
   "execution_count": null,
   "metadata": {
    "executionInfo": {
     "elapsed": 2848,
     "status": "ok",
     "timestamp": 1606647525525,
     "user": {
      "displayName": "Naoya Iwamoto",
      "photoUrl": "https://lh3.googleusercontent.com/a-/AOh14GjG2ULaQSCG_5apBeYaklHPJkhYX58aRwCwtoEK=s64",
      "userId": "11896428897681340446"
     },
     "user_tz": -540
    },
    "id": "JmtsN6XLZICm"
   },
   "outputs": [],
   "source": [
    "import pandas as pd\n",
    "import os\n",
    "import scipy.cluster\n",
    "from scipy import signal\n",
    "import numpy as np\n",
    "\n",
    "from tqdm.notebook import tqdm\n",
    "\n",
    "from scipy import signal\n",
    "import matplotlib.pyplot as plt\n",
    "import numpy as np"
   ]
  },
  {
   "cell_type": "code",
   "execution_count": null,
   "metadata": {},
   "outputs": [],
   "source": [
    "os.listdir(\"breth\")"
   ]
  },
  {
   "cell_type": "code",
   "execution_count": null,
   "metadata": {
    "scrolled": true
   },
   "outputs": [],
   "source": [
    "filepath_list = []\n",
    "MAIN_DIR = \"breth\"\n",
    "\n",
    "filepath_list.append(\"breth/345E3100.xlsx\")\n",
    "\n",
    "filepath_list"
   ]
  },
  {
   "cell_type": "markdown",
   "metadata": {},
   "source": [
    "# main"
   ]
  },
  {
   "cell_type": "code",
   "execution_count": null,
   "metadata": {},
   "outputs": [],
   "source": [
    "\n",
    "for f_p in tqdm(filepath_list):\n",
    "    table  = pd.read_excel(f_p, engine=\"openpyxl\")\n",
    "\n",
    "    table.to_excel(os.path.splitext(f_p)[0]+'iir'+os.path.splitext(f_p)[-1],index=False)"
   ]
  },
  {
   "cell_type": "code",
   "execution_count": null,
   "metadata": {},
   "outputs": [],
   "source": [
    "table"
   ]
  },
  {
   "cell_type": "markdown",
   "metadata": {},
   "source": [
    "## リスト化してナムパイ化"
   ]
  },
  {
   "cell_type": "code",
   "execution_count": null,
   "metadata": {},
   "outputs": [],
   "source": [
    "x1 = table[17259].to_list()\n",
    "x2 = np.array(x1)  #リスト化しナムパイ化"
   ]
  },
  {
   "cell_type": "code",
   "execution_count": null,
   "metadata": {},
   "outputs": [],
   "source": []
  },
  {
   "cell_type": "markdown",
   "metadata": {},
   "source": [
    "## 呼吸フィルタ"
   ]
  },
  {
   "cell_type": "code",
   "execution_count": null,
   "metadata": {},
   "outputs": [],
   "source": [
    "import numpy as np\n",
    "import matplotlib.pyplot as plt\n",
    "from scipy import signal\n",
    "import statistics\n",
    "import openpyxl\n",
    "\n",
    "N = 1024            # サンプル数\n",
    "dt = 0.1          # サンプリング周期 [s]\n",
    "\n",
    "filter1 = signal.firwin(numtaps=5, cutoff=0.25, fs=1/dt)\n",
    "y1 = signal.lfilter(filter1, 1, x2-17000)\n",
    "\n",
    "plt.figure(figsize=(28, 8))\n",
    "plt.plot(x2-17000)\n",
    "plt.plot(y1)\n",
    "\n",
    "for i in range(1,10):\n",
    "    plt.figure(figsize=(28, 8))\n",
    "    plt.plot(x2[100*i:100+100*i]-17000)\n",
    "    plt.plot(y1[100*i:100+100*i])\n",
    "\n",
    "\"\"\"\n",
    "path = \"excel/breth.xlsx\"\n",
    "\n",
    "\n",
    "wb = openpyxl.load_workbook(path)\n",
    "ws = wb['Sheet']\n",
    "\n",
    "for i in range(0,len(y1)):\n",
    "    ws.cell(i+1,1,value = y1[i])\n",
    "\n",
    "wb.save(path)\"\"\""
   ]
  },
  {
   "cell_type": "markdown",
   "metadata": {},
   "source": [
    "## 心拍フィルタ"
   ]
  },
  {
   "cell_type": "code",
   "execution_count": null,
   "metadata": {},
   "outputs": [],
   "source": [
    "filter1 = signal.firwin(numtaps = 100, cutoff = [0.8,2], fs=1/dt, pass_zero=False)\n",
    "y2 = signal.lfilter(filter1, 1, x2-17000)\n",
    "\n",
    "plt.figure(figsize=(28, 8))\n",
    "plt.plot(x2-17000)\n",
    "plt.plot(y2)\n",
    "\n",
    "path = \"excel/heart.xlsx\"\n",
    "\n",
    "for i in range(1,10):\n",
    "    plt.figure(figsize=(28, 8))\n",
    "    plt.plot(x2[100*i:100+100*i]-17000)\n",
    "    plt.plot(y2[100*i:100+100*i])\n",
    "\n",
    "\"\"\"\n",
    "wb = openpyxl.load_workbook(path)\n",
    "ws = wb['Sheet']\n",
    "\n",
    "\n",
    "for i in range(0,len(y2)):\n",
    "    ws.cell(i+1,1,value = y2[i])\n",
    "\n",
    "#wb.save(path)\"\"\""
   ]
  },
  {
   "cell_type": "code",
   "execution_count": null,
   "metadata": {},
   "outputs": [],
   "source": []
  }
 ],
 "metadata": {
  "accelerator": "GPU",
  "colab": {
   "authorship_tag": "ABX9TyOEtwGgHd78zWEcPUbU6WPE",
   "collapsed_sections": [],
   "mount_file_id": "1hwt_fuEdwWCUvkmo1QgeBrjkJFHMVTlY",
   "name": "respiration_count_20201129.ipynb",
   "provenance": []
  },
  "kernelspec": {
   "display_name": "Python 3.7.5 64-bit",
   "language": "python",
   "name": "python3"
  },
  "language_info": {
   "codemirror_mode": {
    "name": "ipython",
    "version": 3
   },
   "file_extension": ".py",
   "mimetype": "text/x-python",
   "name": "python",
   "nbconvert_exporter": "python",
   "pygments_lexer": "ipython3",
   "version": "3.7.5"
  },
  "vscode": {
   "interpreter": {
    "hash": "b26c57484f2fda36466914b9c4afd827927cf5425464b6e25238e95832a5592e"
   }
  },
  "widgets": {
   "application/vnd.jupyter.widget-state+json": {
    "1102612e25bc46458aedb8d61e5c8d3d": {
     "model_module": "@jupyter-widgets/controls",
     "model_name": "DescriptionStyleModel",
     "state": {
      "_model_module": "@jupyter-widgets/controls",
      "_model_module_version": "1.5.0",
      "_model_name": "DescriptionStyleModel",
      "_view_count": null,
      "_view_module": "@jupyter-widgets/base",
      "_view_module_version": "1.2.0",
      "_view_name": "StyleView",
      "description_width": ""
     }
    },
    "149aacd37321495b99e8558e12fbb31f": {
     "model_module": "@jupyter-widgets/base",
     "model_name": "LayoutModel",
     "state": {
      "_model_module": "@jupyter-widgets/base",
      "_model_module_version": "1.2.0",
      "_model_name": "LayoutModel",
      "_view_count": null,
      "_view_module": "@jupyter-widgets/base",
      "_view_module_version": "1.2.0",
      "_view_name": "LayoutView",
      "align_content": null,
      "align_items": null,
      "align_self": null,
      "border": null,
      "bottom": null,
      "display": null,
      "flex": null,
      "flex_flow": null,
      "grid_area": null,
      "grid_auto_columns": null,
      "grid_auto_flow": null,
      "grid_auto_rows": null,
      "grid_column": null,
      "grid_gap": null,
      "grid_row": null,
      "grid_template_areas": null,
      "grid_template_columns": null,
      "grid_template_rows": null,
      "height": null,
      "justify_content": null,
      "justify_items": null,
      "left": null,
      "margin": null,
      "max_height": null,
      "max_width": null,
      "min_height": null,
      "min_width": null,
      "object_fit": null,
      "object_position": null,
      "order": null,
      "overflow": null,
      "overflow_x": null,
      "overflow_y": null,
      "padding": null,
      "right": null,
      "top": null,
      "visibility": null,
      "width": null
     }
    },
    "6623a7e3bdd5422b982bed5bc38d89e3": {
     "model_module": "@jupyter-widgets/controls",
     "model_name": "ProgressStyleModel",
     "state": {
      "_model_module": "@jupyter-widgets/controls",
      "_model_module_version": "1.5.0",
      "_model_name": "ProgressStyleModel",
      "_view_count": null,
      "_view_module": "@jupyter-widgets/base",
      "_view_module_version": "1.2.0",
      "_view_name": "StyleView",
      "bar_color": null,
      "description_width": "initial"
     }
    },
    "79436bad8a694c0caeed1b86a897d057": {
     "model_module": "@jupyter-widgets/base",
     "model_name": "LayoutModel",
     "state": {
      "_model_module": "@jupyter-widgets/base",
      "_model_module_version": "1.2.0",
      "_model_name": "LayoutModel",
      "_view_count": null,
      "_view_module": "@jupyter-widgets/base",
      "_view_module_version": "1.2.0",
      "_view_name": "LayoutView",
      "align_content": null,
      "align_items": null,
      "align_self": null,
      "border": null,
      "bottom": null,
      "display": null,
      "flex": null,
      "flex_flow": null,
      "grid_area": null,
      "grid_auto_columns": null,
      "grid_auto_flow": null,
      "grid_auto_rows": null,
      "grid_column": null,
      "grid_gap": null,
      "grid_row": null,
      "grid_template_areas": null,
      "grid_template_columns": null,
      "grid_template_rows": null,
      "height": null,
      "justify_content": null,
      "justify_items": null,
      "left": null,
      "margin": null,
      "max_height": null,
      "max_width": null,
      "min_height": null,
      "min_width": null,
      "object_fit": null,
      "object_position": null,
      "order": null,
      "overflow": null,
      "overflow_x": null,
      "overflow_y": null,
      "padding": null,
      "right": null,
      "top": null,
      "visibility": null,
      "width": null
     }
    },
    "dc83734ffb964522bc8f4e7cf102ca84": {
     "model_module": "@jupyter-widgets/base",
     "model_name": "LayoutModel",
     "state": {
      "_model_module": "@jupyter-widgets/base",
      "_model_module_version": "1.2.0",
      "_model_name": "LayoutModel",
      "_view_count": null,
      "_view_module": "@jupyter-widgets/base",
      "_view_module_version": "1.2.0",
      "_view_name": "LayoutView",
      "align_content": null,
      "align_items": null,
      "align_self": null,
      "border": null,
      "bottom": null,
      "display": null,
      "flex": null,
      "flex_flow": null,
      "grid_area": null,
      "grid_auto_columns": null,
      "grid_auto_flow": null,
      "grid_auto_rows": null,
      "grid_column": null,
      "grid_gap": null,
      "grid_row": null,
      "grid_template_areas": null,
      "grid_template_columns": null,
      "grid_template_rows": null,
      "height": null,
      "justify_content": null,
      "justify_items": null,
      "left": null,
      "margin": null,
      "max_height": null,
      "max_width": null,
      "min_height": null,
      "min_width": null,
      "object_fit": null,
      "object_position": null,
      "order": null,
      "overflow": null,
      "overflow_x": null,
      "overflow_y": null,
      "padding": null,
      "right": null,
      "top": null,
      "visibility": null,
      "width": null
     }
    },
    "ecdc8d5795694b898c0a5fad9bbc49d5": {
     "model_module": "@jupyter-widgets/controls",
     "model_name": "HTMLModel",
     "state": {
      "_dom_classes": [],
      "_model_module": "@jupyter-widgets/controls",
      "_model_module_version": "1.5.0",
      "_model_name": "HTMLModel",
      "_view_count": null,
      "_view_module": "@jupyter-widgets/controls",
      "_view_module_version": "1.5.0",
      "_view_name": "HTMLView",
      "description": "",
      "description_tooltip": null,
      "layout": "IPY_MODEL_dc83734ffb964522bc8f4e7cf102ca84",
      "placeholder": "​",
      "style": "IPY_MODEL_1102612e25bc46458aedb8d61e5c8d3d",
      "value": " 1011/1011 [07:24&lt;00:00,  2.27it/s]"
     }
    },
    "f1bb978e511d45c8b9e8fd5cc0243f04": {
     "model_module": "@jupyter-widgets/controls",
     "model_name": "HBoxModel",
     "state": {
      "_dom_classes": [],
      "_model_module": "@jupyter-widgets/controls",
      "_model_module_version": "1.5.0",
      "_model_name": "HBoxModel",
      "_view_count": null,
      "_view_module": "@jupyter-widgets/controls",
      "_view_module_version": "1.5.0",
      "_view_name": "HBoxView",
      "box_style": "",
      "children": [
       "IPY_MODEL_fc264c98a0bd4ddfa20f90c9d1b01649",
       "IPY_MODEL_ecdc8d5795694b898c0a5fad9bbc49d5"
      ],
      "layout": "IPY_MODEL_79436bad8a694c0caeed1b86a897d057"
     }
    },
    "fc264c98a0bd4ddfa20f90c9d1b01649": {
     "model_module": "@jupyter-widgets/controls",
     "model_name": "FloatProgressModel",
     "state": {
      "_dom_classes": [],
      "_model_module": "@jupyter-widgets/controls",
      "_model_module_version": "1.5.0",
      "_model_name": "FloatProgressModel",
      "_view_count": null,
      "_view_module": "@jupyter-widgets/controls",
      "_view_module_version": "1.5.0",
      "_view_name": "ProgressView",
      "bar_style": "success",
      "description": "100%",
      "description_tooltip": null,
      "layout": "IPY_MODEL_149aacd37321495b99e8558e12fbb31f",
      "max": 1011,
      "min": 0,
      "orientation": "horizontal",
      "style": "IPY_MODEL_6623a7e3bdd5422b982bed5bc38d89e3",
      "value": 1011
     }
    }
   }
  }
 },
 "nbformat": 4,
 "nbformat_minor": 1
}
